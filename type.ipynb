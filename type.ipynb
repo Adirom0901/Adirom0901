{
  "nbformat": 4,
  "nbformat_minor": 0,
  "metadata": {
    "colab": {
      "provenance": [],
      "authorship_tag": "ABX9TyP4KwEKg2sCpATDzX8kxz/g",
      "include_colab_link": true
    },
    "kernelspec": {
      "name": "python3",
      "display_name": "Python 3"
    },
    "language_info": {
      "name": "python"
    }
  },
  "cells": [
    {
      "cell_type": "markdown",
      "metadata": {
        "id": "view-in-github",
        "colab_type": "text"
      },
      "source": [
        "<a href=\"https://colab.research.google.com/github/Adirom0901/Adirom0901/blob/main/type.ipynb\" target=\"_parent\"><img src=\"https://colab.research.google.com/assets/colab-badge.svg\" alt=\"Open In Colab\"/></a>"
      ]
    },
    {
      "cell_type": "code",
      "execution_count": 4,
      "metadata": {
        "colab": {
          "base_uri": "https://localhost:8080/"
        },
        "id": "VszQijxMpBfB",
        "outputId": "9fe57a29-d926-4726-bc13-b61d1021178e"
      },
      "outputs": [
        {
          "output_type": "stream",
          "name": "stdout",
          "text": [
            "Collecting cohere\n",
            "  Downloading cohere-4.53-py3-none-any.whl (52 kB)\n",
            "\u001b[?25l     \u001b[90m━━━━━━━━━━━━━━━━━━━━━━━━━━━━━━━━━━━━━━━━\u001b[0m \u001b[32m0.0/52.8 kB\u001b[0m \u001b[31m?\u001b[0m eta \u001b[36m-:--:--\u001b[0m\r\u001b[2K     \u001b[91m━━━━━━━━━━━━━━━━━━━━━━━━━━━━━━━\u001b[0m\u001b[90m╺\u001b[0m\u001b[90m━━━━━━━━\u001b[0m \u001b[32m41.0/52.8 kB\u001b[0m \u001b[31m1.0 MB/s\u001b[0m eta \u001b[36m0:00:01\u001b[0m\r\u001b[2K     \u001b[90m━━━━━━━━━━━━━━━━━━━━━━━━━━━━━━━━━━━━━━━━\u001b[0m \u001b[32m52.8/52.8 kB\u001b[0m \u001b[31m876.3 kB/s\u001b[0m eta \u001b[36m0:00:00\u001b[0m\n",
            "\u001b[?25hRequirement already satisfied: aiohttp<4.0,>=3.0 in /usr/local/lib/python3.10/dist-packages (from cohere) (3.9.3)\n",
            "Collecting backoff<3.0,>=2.0 (from cohere)\n",
            "  Downloading backoff-2.2.1-py3-none-any.whl (15 kB)\n",
            "Collecting fastavro<2.0,>=1.8 (from cohere)\n",
            "  Downloading fastavro-1.9.4-cp310-cp310-manylinux_2_17_x86_64.manylinux2014_x86_64.whl (3.1 MB)\n",
            "\u001b[2K     \u001b[90m━━━━━━━━━━━━━━━━━━━━━━━━━━━━━━━━━━━━━━━━\u001b[0m \u001b[32m3.1/3.1 MB\u001b[0m \u001b[31m17.9 MB/s\u001b[0m eta \u001b[36m0:00:00\u001b[0m\n",
            "\u001b[?25hCollecting importlib_metadata<7.0,>=6.0 (from cohere)\n",
            "  Downloading importlib_metadata-6.11.0-py3-none-any.whl (23 kB)\n",
            "Requirement already satisfied: requests<3.0.0,>=2.25.0 in /usr/local/lib/python3.10/dist-packages (from cohere) (2.31.0)\n",
            "Requirement already satisfied: urllib3<3,>=1.26 in /usr/local/lib/python3.10/dist-packages (from cohere) (2.0.7)\n",
            "Requirement already satisfied: aiosignal>=1.1.2 in /usr/local/lib/python3.10/dist-packages (from aiohttp<4.0,>=3.0->cohere) (1.3.1)\n",
            "Requirement already satisfied: attrs>=17.3.0 in /usr/local/lib/python3.10/dist-packages (from aiohttp<4.0,>=3.0->cohere) (23.2.0)\n",
            "Requirement already satisfied: frozenlist>=1.1.1 in /usr/local/lib/python3.10/dist-packages (from aiohttp<4.0,>=3.0->cohere) (1.4.1)\n",
            "Requirement already satisfied: multidict<7.0,>=4.5 in /usr/local/lib/python3.10/dist-packages (from aiohttp<4.0,>=3.0->cohere) (6.0.5)\n",
            "Requirement already satisfied: yarl<2.0,>=1.0 in /usr/local/lib/python3.10/dist-packages (from aiohttp<4.0,>=3.0->cohere) (1.9.4)\n",
            "Requirement already satisfied: async-timeout<5.0,>=4.0 in /usr/local/lib/python3.10/dist-packages (from aiohttp<4.0,>=3.0->cohere) (4.0.3)\n",
            "Requirement already satisfied: zipp>=0.5 in /usr/local/lib/python3.10/dist-packages (from importlib_metadata<7.0,>=6.0->cohere) (3.17.0)\n",
            "Requirement already satisfied: charset-normalizer<4,>=2 in /usr/local/lib/python3.10/dist-packages (from requests<3.0.0,>=2.25.0->cohere) (3.3.2)\n",
            "Requirement already satisfied: idna<4,>=2.5 in /usr/local/lib/python3.10/dist-packages (from requests<3.0.0,>=2.25.0->cohere) (3.6)\n",
            "Requirement already satisfied: certifi>=2017.4.17 in /usr/local/lib/python3.10/dist-packages (from requests<3.0.0,>=2.25.0->cohere) (2024.2.2)\n",
            "Installing collected packages: importlib_metadata, fastavro, backoff, cohere\n",
            "  Attempting uninstall: importlib_metadata\n",
            "    Found existing installation: importlib-metadata 7.0.1\n",
            "    Uninstalling importlib-metadata-7.0.1:\n",
            "      Successfully uninstalled importlib-metadata-7.0.1\n",
            "Successfully installed backoff-2.2.1 cohere-4.53 fastavro-1.9.4 importlib_metadata-6.11.0\n",
            "Collecting annoy\n",
            "  Downloading annoy-1.17.3.tar.gz (647 kB)\n",
            "\u001b[2K     \u001b[90m━━━━━━━━━━━━━━━━━━━━━━━━━━━━━━━━━━━━━━━━\u001b[0m \u001b[32m647.5/647.5 kB\u001b[0m \u001b[31m3.9 MB/s\u001b[0m eta \u001b[36m0:00:00\u001b[0m\n",
            "\u001b[?25h  Preparing metadata (setup.py) ... \u001b[?25l\u001b[?25hdone\n",
            "Building wheels for collected packages: annoy\n",
            "  Building wheel for annoy (setup.py) ... \u001b[?25l\u001b[?25hdone\n",
            "  Created wheel for annoy: filename=annoy-1.17.3-cp310-cp310-linux_x86_64.whl size=552449 sha256=d7b442094449b8b82202b611d28f85855a947c2f0fd51e02460bd2871e282320\n",
            "  Stored in directory: /root/.cache/pip/wheels/64/8a/da/f714bcf46c5efdcfcac0559e63370c21abe961c48e3992465a\n",
            "Successfully built annoy\n",
            "Installing collected packages: annoy\n",
            "Successfully installed annoy-1.17.3\n"
          ]
        }
      ],
      "source": [
        "!pip install cohere\n",
        "!pip install annoy\n",
        "import cohere\n",
        "\n",
        "import numpy as np\n",
        "\n",
        "import warnings\n",
        "\n",
        "warnings.filterwarnings('ignore')\n",
        "\n",
        "from annoy import AnnoyIndex\n",
        "\n",
        "import numpy as np\n",
        "\n",
        "import pandas as pd\n",
        "\n",
        "\n"
      ]
    },
    {
      "cell_type": "code",
      "source": [
        "question = \"what are strengths of personality type ENFJ? \"\n",
        "\n",
        "text = \"\"\"\n",
        "ENFJ Strengths\n",
        "ENFJ (Protagonist) strengths\n",
        "Receptive – People with the ENFJ personality type (Protagonists) have strong opinions, but they’re far from closed-minded. They recognize the importance of allowing others to express themselves fully. Even when they don’t agree with someone, they recognize that person’s right to voice their truth.\n",
        "Reliable – Few things bother ENFJs more than the prospect of letting down a person or cause that they believe in. People with this personality type can be counted on to see their promises and responsibilities through – even when it’s difficult to do so.\n",
        "Passionate – ENFJ personalities brim with interests, and they take great pleasure in pursuing their hobbies – whether that’s hiking, cooking, dancing, growing houseplants, or something else entirely. As a result, they rarely find themselves at a loss for something interesting to do.\n",
        "Altruistic – ENFJs are known for harboring a deep desire to be a force for positive change in both their personal lives and their professional pursuits. Their unwavering inclination toward fairness often compels people with this personality type to advocate for those who are unable to do so for themselves. Their joy lies in seeing those around them thrive, making their altruism heartfelt and sincere.\n",
        "Charismatic – Determined and inspiring, ENFJs often find their way into leadership roles. Whether they’re captain of their softball team or a leader on the world stage, they excel at engaging in conversation, captivating people’s attention, and rallying people together behind a common goal. ENFJ personalities also have a profound capacity for empathy that oftentimes causes the people they come across to feel truly seen and valued, further bolstering their natural allure.\n",
        "ENFJ Weaknesses\n",
        "ENFJ (Protagonist) weaknesses\n",
        "Unrealistic – Many ENFJs put pressure on themselves to right every wrong that they encounter. But no matter how hard these personalities try, it just isn’t realistic for them to solve all of the world’s problems. If they aren’t careful, they can spread themselves too thin – and be left unable to help anyone.\n",
        "Overly Idealistic – ENFJ personalities tend to have clear ideas about what’s right and what’s wrong. They often think that everyone shares these fundamental principles – or, at least, that everyone should share these principles. So it can come as a genuine shock to ENFJs when people violate their core values, such as truth or justice.\n",
        "Condescending – People with this personality type enjoy teaching others, particularly about the causes and beliefs that matter so much to them. But at times, ENFJs’ attempts to “enlighten” others may come across as patronizing – not the most effective strategy for persuading other people, unfortunately.\n",
        "Intense – When it comes to self-improvement, ENFJs are rarely short on energy or determination. But they may not recognize that not everyone shares these qualities. At times, these personalities may push others to make changes that they aren’t ready for – or simply aren’t interested in making in the first place.\n",
        "Overly Empathetic – Compassion is among this personality type’s greatest strengths. But ENFJs have a tendency to take on other people’s problems as their own – a habit that can leave them emotionally and physically exhausted.\n",
        "\n",
        "ENFJ (Protagonist) is a personality type with the Extraverted, Intuitive, Feeling, and Judging traits. These warm, forthright types love helping others, and they tend to have strong ideas and values. They back their perspective with the creative energy to achieve their goals.\n",
        "\n",
        "When the whole world is silent, even one voice becomes powerful.\n",
        "\n",
        "MALALA YOUSAFZAI\n",
        "People with the ENFJ personality type (Protagonists) feel called to serve a greater purpose in life. Thoughtful and idealistic, ENFJs strive to have a positive impact on other people and the world around them. These personalities rarely shy away from an opportunity to do the right thing, even when doing so is far from easy.\n",
        "\n",
        "ENFJs are born leaders, which explains why these personalities can be found among many notable politicians, coaches, and teachers. Their passion and charisma allow them to inspire others not just in their careers but in every arena of their lives, including their relationships. Few things bring people with the ENFJ personality type a deeper sense of joy and fulfillment than guiding friends and loved ones to grow into their best selves.\n",
        "\n",
        "ENFJs possess the unique ability to remain hopeful in the face of difficulties, always remembering that there is something to be grateful for.\n",
        "Speaking Up for What’s Right\n",
        "ENFJs tend to be vocal about their values, including authenticity and altruism. When something strikes them as unjust or wrong, they speak up. But they rarely come across as brash or pushy, as their sensitivity and insight guide them to speak in ways that resonate with others.\n",
        "\n",
        "ENFJ personalities have not only an uncanny ability to pick up on people’s underlying motivations and beliefs but also a knack for understanding how others are feeling just by looking at them. At times, they may not even understand how they come to grasp another person’s mind and heart so quickly. These flashes of insight can make ENFJs incredibly persuasive and inspiring communicators.\n",
        "\n",
        "ENFJ personalities possess an innate sense of justice and an unwavering commitment to standing up against what they perceive as wrong.\n",
        "This personality type’s secret weapon is their purity of intent. Generally speaking, ENFJs are motivated by a sincere wish to do the right thing rather than a desire to manipulate or have power over other people. Even when they disagree with someone, they search for common ground. The result is that people with the ENFJ personality type can communicate with an eloquence and sensitivity that are nearly impossible to ignore – particularly when they speak about matters that are close to their hearts.\n",
        "\n",
        "Getting Involved\n",
        "ENFJ personalities are genuine, caring people who talk the talk and walk the walk. Nothing makes them happier than motivating others to do what’s right.\n",
        "When ENFJs care about someone, they want to help solve that person’s problems – sometimes at any cost. The good news is that many people are grateful for this assistance and advice. After all, there’s a reason that these personalities have a reputation for helping others improve their lives.\n",
        "\n",
        "But getting involved in other people’s problems isn’t always a recipe for success. ENFJs tend to have a clear vision of what people can or should do in order to better themselves, but not everyone is ready to make those changes. If they push too hard, their loved ones may feel resentful or unfairly judged. And while this personality type is known for being insightful, even the wisest ENFJs may sometimes misread a situation or unwittingly give bad advice.\n",
        "\n",
        "Leading the Way\n",
        "People with this personality type are devoted altruists, ready to face slings and arrows in order to stand up for the people and ideas that they believe in. This strength of conviction bolsters an ENFJ’s ability to guide others to work together in service of the greater good.\n",
        "\n",
        "But their greatest gift might actually be leading by example. In their day-to-day lives, ENFJs reveal how seemingly ordinary situations can be handled with compassion, dedication, and care. For these personalities, even the smallest daily choices and actions – from how they spend their weekend to what they say to a coworker who is struggling – can become an opportunity to lead the way to a brighter future.\n",
        "\n",
        "\n",
        "Romantic Relationships\n",
        "People with the ENFJ personality type (Protagonists) can be intense when it comes to matters of the heart – and they wouldn’t have it any other way. As true optimists and embodiments of passion, ENFJs believe their soulmates are out there somewhere, and they won’t give up until they find them. These personalities rarely settle for anything that falls short of their ideals, and their romantic relationships are no exception.\n",
        "\n",
        "Although ENFJs may come across as outgoing or even a bit flirtatious, few of them are satisfied by fleeting attractions. Their standards are high, and they know it. In fact, this awareness might give people with the ENFJ personality type a deeper appreciation of just how rare and precious it is to feel a real spark with another person – and, in turn, just how rare and special it is when that spark grows into the steady flames of true, abiding love.\n",
        "\n",
        "ENFJ (Protagonist) relationships\n",
        "Moving Beyond the Dating Game\n",
        "When they fall for someone, they tend to fall hard – and they’re not coy about it. ENFJs are among the personality types that most readily express how they feel, so they often find themselves making the first move rather than playing games or waiting for reassurance that the other person feels the same way.\n",
        "\n",
        "In the dating world, their willingness to put themselves out there can be refreshing and perhaps a little unusual. This, along with the intensity of their passion, is incredibly appealing to many people. That said, because ENFJ personalities often make the first move, they may encounter their share of rejection as they search for a kindred spirit.\n",
        "\n",
        "Once ENFJs know who they want to be with, these hopeless romantics will move mountains in pursuit of the one they love.\n",
        "Dreaming Together\n",
        "From their first date to their 50th, these personalities don’t shy away from steering the conversation toward heavier topics. ENFJs don’t just want to find out what TV shows someone watches – they want to get a sense of their partner’s dreams and aspirations and the changes they hope to make to themselves and to the world. And if their relationship deepens to the level that these personalities truly seek, ENFJs take pride in supporting their partner to make good on these dreams.\n",
        "\n",
        "For an ENFJ, one of life’s greatest joys is helping someone they care about reach their goals.\n",
        "Some people with the ENFJ personality type carry this forward-looking perspective a step further, taking on their partner’s goals as their own. This can be problematic, to say the least. If they become overinvested in helping their partner, they may end up neglecting their own self-care, hobbies, and friendships. ENFJ personalities may also be at risk of pushing their partner to change their life in ways that they simply aren’t ready for.\n",
        "\n",
        "When ENFJs carry this too far, they often find that the pressure they put on their partner to “better” themselves backfires in one of two ways. Their partner may become insecure, fearing that they aren’t good enough as they are, or they may become angry, feeling resentful of the implication that they need to change. Either way, ENFJs must learn to encourage their partner to grow without pushing too hard.\n",
        "\n",
        "The Long Haul\n",
        "Few personality types are keener than ENFJs to establish a loving commitment with their chosen partner. They take dating and relationships seriously. In fact, ENFJs are the most likely type to want to start a serious relationship with the person they fall in love with. Consequently, even in the earliest days of a relationship, these personalities tend to focus on long-term potential, and as the relationship matures, they want to do what it takes to bring that potential to fruition.\n",
        "\n",
        "While ENFJs certainly know how to enjoy the moment, they also know that love isn’t all fun and games. People with this personality type are eager to prove their commitment, taking the time and effort to establish themselves as dependable, trustworthy partners.\n",
        "This can be a beautiful thing. ENFJs care about pleasing their partner, and their sensitivity helps them tune in to their partner’s shifting moods and desires. As long as they don’t lose track of their own needs, people with this personality type can enjoy incredibly rewarding relationships that are founded on trust, mutual support, and honesty – and, of course, love.\n",
        "\n",
        "Friendships\n",
        "Connecting with others makes people with the ENFJ personality type (Protagonists) feel alive and purposeful. It’s no surprise, then, that they are anything but apathetic about friendship. ENFJs put sincere, dedicated effort into staying close with their friends. For these personalities, friendships are far from expendable or insignificant – instead, they’re a key component of a life well lived.\n",
        "\n",
        "ENFJ (Protagonist) friends\n",
        "A Wealth of Perspectives\n",
        "Few personality types can match ENFJs’ sincere desire to get to know people. For these personalities, discovering someone’s quirks and opinions and hopes and follies is one of life’s purest pleasures. Most ENFJs can’t help but be fascinated by other worldviews, even those with which they wholeheartedly disagree. Encountering a wealth of perspectives is what keeps life interesting for these types.\n",
        "\n",
        "Consequently, ENFJs surround themselves with all sorts of friends and acquaintances. In fact, they are the most likely personality type to have more than one friend group for different aspects of their lives. From work friends to gym buddies to partying companions, ENFJs love to relax and unwind by spending time with friends, diving into a good conversation, and getting to know what makes their friends tick.\n",
        "\n",
        "That said, most ENFJ personalities find it difficult to respect anyone who takes shortcuts, disrespects others, or refuses to challenge the status quo. Instead, they find it easiest to connect with people who share their core ideals, particularly their commitment to doing the right thing and leaving the world better than they found it. It is with these closest friends that ENFJs truly open up, sharing their vulnerabilities and their most precious dreams for their lives.\n",
        "\n",
        "ENFJ personalities’ passion for altruism often leads them to extend their circle of influence beyond their immediate group, offering assistance to others within their network and creating opportunities where none existed.\n",
        "Through Thick and Thin\n",
        "ENFJs can be among the best friends anyone could wish for. Kindhearted and trustworthy, people with this personality type dedicate incredible amounts of energy and attention to their friendships. They want their friends to feel not merely validated but supported, not merely heard but understood.\n",
        "\n",
        "From their closest friends to their wide circle of acquaintances, ENFJ personalities approach relationships with a sense of purpose, creating bonds that are not easily broken.\n",
        "They can also be trusted to show up in ways both large and small – whether by taking time after a grueling day at work to help a friend spruce up their resume or by putting together a weekend-long destination birthday party for a friend who needs a boost. Nothing makes ENFJ personalities happier than seeing the people they care about doing well, and few things could stop them from trying to help make that happen.\n",
        "\n",
        "Finding Balance\n",
        "While ENFJs enjoy lending a helping hand, they aren’t always happy with the results. The truth is that some people don’t have the energy or the drive to take full advantage of their offers to help – or they simply might not want to. For example, their friend might ignore that resume advice, or they might decide to kick back and relax instead of using that new resume to send out job applications.\n",
        "\n",
        "When this happens, people with the ENFJ personality type may feel unappreciated, frustrated, or resentful. They may even become judgmental in an effort to push their friend forward – an approach that all too often backfires.\n",
        "\n",
        "As they mature, many ENFJs learn to avoid taking their friends’ behavior personally.\n",
        "Paradoxically, having a more flexible attitude can guide these types to support the people they care about even more effectively. As many ENFJs discover, the most enduring friendships are based not only on mutual growth but also on acceptance, compassion, and genuine respect.\n",
        "\n",
        "\n",
        "\"\"\""
      ],
      "metadata": {
        "id": "ZKlywOI9rCFq"
      },
      "execution_count": 2,
      "outputs": []
    },
    {
      "cell_type": "code",
      "source": [
        "# Split into a list of paragraphs\n",
        "\n",
        "texts = text.split('\\n\\n')\n",
        "\n",
        "\n",
        "\n",
        "# Clean up to remove empty spaces and new lines\n",
        "\n",
        "texts = np.array([t.strip(' \\n') for t in texts if t])\n",
        "\n",
        "\n",
        "\n",
        "co = cohere.Client('Kn7bbzdhTfisFwUuSuy97kLVpUmyktumBHO7uLBK')\n",
        "\n",
        "\n",
        "\n",
        "# Get the embeddings\n",
        "\n",
        "response = co.embed(\n",
        "\n",
        "    texts=texts.tolist(),\n",
        "\n",
        ").embeddings"
      ],
      "metadata": {
        "colab": {
          "base_uri": "https://localhost:8080/"
        },
        "id": "y5R4yqPBsWSP",
        "outputId": "0b53a465-db90-4ce4-efea-57d66fbe05cc"
      },
      "execution_count": 5,
      "outputs": [
        {
          "output_type": "stream",
          "name": "stderr",
          "text": [
            "default model on embed will be deprecated in the future, please specify a model in the request.\n"
          ]
        }
      ]
    },
    {
      "cell_type": "code",
      "source": [
        "# Check the dimensions of the embeddings\n",
        "\n",
        "embeds = np.array(response)\n",
        "\n",
        "\n",
        "\n",
        "# Create the search index, pass the size of embedding\n",
        "\n",
        "search_index = AnnoyIndex(embeds.shape[1], 'angular')\n",
        "\n",
        "# Add all the vectors to the search index\n",
        "\n",
        "for i in range(len(embeds)):\n",
        "\n",
        "    search_index.add_item(i, embeds[i])\n",
        "\n",
        "\n",
        "\n",
        "search_index.build(10) # 10 trees\n",
        "\n",
        "search_index.save('test.ann')"
      ],
      "metadata": {
        "colab": {
          "base_uri": "https://localhost:8080/"
        },
        "id": "lUKDkZC8s3ck",
        "outputId": "034f46b3-3568-4629-acb3-e9c0e461e2bf"
      },
      "execution_count": 6,
      "outputs": [
        {
          "output_type": "execute_result",
          "data": {
            "text/plain": [
              "True"
            ]
          },
          "metadata": {},
          "execution_count": 6
        }
      ]
    },
    {
      "cell_type": "code",
      "source": [
        "def search_text(query):\n",
        "\n",
        "    # Get the query's embedding\n",
        "\n",
        "    query_embed = co.embed(texts=[query]).embeddings\n",
        "\n",
        "\n",
        "\n",
        "    # Retrieve the nearest neighbors\n",
        "\n",
        "    similar_item_ids = search_index.get_nns_by_vector(query_embed[0],\n",
        "\n",
        "                                                    10,\n",
        "\n",
        "                                                  include_distances=True)\n",
        "\n",
        "\n",
        "\n",
        "    search_results = texts[similar_item_ids[0]]\n",
        "\n",
        "\n",
        "\n",
        "    return search_results\n",
        "\n"
      ],
      "metadata": {
        "id": "Qq3Y7G4Ws-tz"
      },
      "execution_count": 7,
      "outputs": []
    },
    {
      "cell_type": "code",
      "source": [
        "results = search_text(question)\n",
        "\n",
        "\n",
        "\n",
        "print(results[0])\n",
        "\n",
        "\n",
        "\n"
      ],
      "metadata": {
        "colab": {
          "base_uri": "https://localhost:8080/"
        },
        "id": "PEw002DPtXNY",
        "outputId": "157db121-509d-4cf2-f177-14406f634ad9"
      },
      "execution_count": null,
      "outputs": [
        {
          "output_type": "stream",
          "name": "stderr",
          "text": [
            "default model on embed will be deprecated in the future, please specify a model in the request.\n"
          ]
        },
        {
          "output_type": "stream",
          "name": "stdout",
          "text": [
            "ENFJ Strengths\n",
            "ENFJ (Protagonist) strengths\n",
            "Receptive – People with the ENFJ personality type (Protagonists) have strong opinions, but they’re far from closed-minded. They recognize the importance of allowing others to express themselves fully. Even when they don’t agree with someone, they recognize that person’s right to voice their truth.\n",
            "Reliable – Few things bother ENFJs more than the prospect of letting down a person or cause that they believe in. People with this personality type can be counted on to see their promises and responsibilities through – even when it’s difficult to do so.\n",
            "Passionate – ENFJ personalities brim with interests, and they take great pleasure in pursuing their hobbies – whether that’s hiking, cooking, dancing, growing houseplants, or something else entirely. As a result, they rarely find themselves at a loss for something interesting to do.\n",
            "Altruistic – ENFJs are known for harboring a deep desire to be a force for positive change in both their personal lives and their professional pursuits. Their unwavering inclination toward fairness often compels people with this personality type to advocate for those who are unable to do so for themselves. Their joy lies in seeing those around them thrive, making their altruism heartfelt and sincere.\n",
            "Charismatic – Determined and inspiring, ENFJs often find their way into leadership roles. Whether they’re captain of their softball team or a leader on the world stage, they excel at engaging in conversation, captivating people’s attention, and rallying people together behind a common goal. ENFJ personalities also have a profound capacity for empathy that oftentimes causes the people they come across to feel truly seen and valued, further bolstering their natural allure.\n",
            "ENFJ Weaknesses\n",
            "ENFJ (Protagonist) weaknesses\n",
            "Unrealistic – Many ENFJs put pressure on themselves to right every wrong that they encounter. But no matter how hard these personalities try, it just isn’t realistic for them to solve all of the world’s problems. If they aren’t careful, they can spread themselves too thin – and be left unable to help anyone.\n",
            "Overly Idealistic – ENFJ personalities tend to have clear ideas about what’s right and what’s wrong. They often think that everyone shares these fundamental principles – or, at least, that everyone should share these principles. So it can come as a genuine shock to ENFJs when people violate their core values, such as truth or justice.\n",
            "Condescending – People with this personality type enjoy teaching others, particularly about the causes and beliefs that matter so much to them. But at times, ENFJs’ attempts to “enlighten” others may come across as patronizing – not the most effective strategy for persuading other people, unfortunately.\n",
            "Intense – When it comes to self-improvement, ENFJs are rarely short on energy or determination. But they may not recognize that not everyone shares these qualities. At times, these personalities may push others to make changes that they aren’t ready for – or simply aren’t interested in making in the first place.\n",
            "Overly Empathetic – Compassion is among this personality type’s greatest strengths. But ENFJs have a tendency to take on other people’s problems as their own – a habit that can leave them emotionally and physically exhausted.\n"
          ]
        }
      ]
    },
    {
      "cell_type": "code",
      "source": [
        "def ask_llm(question, num_generations=1):\n",
        "\n",
        "\n",
        "\n",
        "    # Search the text archive\n",
        "\n",
        "    results = search_text(question)\n",
        "\n",
        "\n",
        "\n",
        "    # Get the top result\n",
        "\n",
        "    context = results[0]\n",
        "\n",
        "\n",
        "\n",
        "    # Prepare the prompt\n",
        "\n",
        "    prompt = f\"\"\"\n",
        "\n",
        "    More information about personality types from the website\n",
        "    16personalities.com:\n",
        "\n",
        "    {context}\n",
        "\n",
        "    Question: {question}\n",
        "\n",
        "\n",
        "\n",
        "    Extract the answer of the question from the text provided.\n",
        "\n",
        "    If the text doesn't contain the answer,\n",
        "\n",
        "    reply that the answer is not available.\"\"\"\n",
        "\n",
        "\n",
        "\n",
        "    prediction = co.generate(   prompt=prompt,\n",
        "\n",
        "        max_tokens=70,\n",
        "\n",
        "        model=\"command-nightly\",\n",
        "\n",
        "        temperature=0.5,\n",
        "\n",
        "        num_generations=num_generations\n",
        "\n",
        "    )\n",
        "\n",
        "\n",
        "\n",
        "    return prediction.generations\n",
        "\n"
      ],
      "metadata": {
        "id": "olgNpsNXtwyP"
      },
      "execution_count": 8,
      "outputs": []
    },
    {
      "cell_type": "code",
      "source": [
        "results = ask_llm(question,)\n",
        "\n",
        "print(results[0])\n",
        "\n"
      ],
      "metadata": {
        "colab": {
          "base_uri": "https://localhost:8080/"
        },
        "id": "0cP6Ci_Iujo-",
        "outputId": "6c24b722-11ec-4ace-872a-f4a6b1a39d86"
      },
      "execution_count": null,
      "outputs": [
        {
          "output_type": "stream",
          "name": "stderr",
          "text": [
            "default model on embed will be deprecated in the future, please specify a model in the request.\n"
          ]
        },
        {
          "output_type": "stream",
          "name": "stdout",
          "text": [
            "The strengths of an ENFJ personality are:\n",
            "- Receptive to others' opinions while having strong beliefs\n",
            "- Reliable and dedicated to keeping promises despite difficulty\n",
            "- Passionate with a variety of interests\n",
            "- Altruistic, desiring to help others and advocate for fairness \n",
            "- Charismatic, with the ability to inspire and lead\n",
            "\n",
            "\n"
          ]
        }
      ]
    },
    {
      "cell_type": "code",
      "source": [
        "question = \"what romantic relationships are suitable for the personality type ENFJ?\"\n",
        "\n",
        "results = ask_llm(question,)\n",
        "\n",
        "print(results[0])\n",
        "\n"
      ],
      "metadata": {
        "colab": {
          "base_uri": "https://localhost:8080/"
        },
        "id": "oQxoONNHu3oz",
        "outputId": "70982ca7-b178-4fa4-dff9-c72ef31bc182"
      },
      "execution_count": 10,
      "outputs": [
        {
          "output_type": "stream",
          "name": "stderr",
          "text": [
            "default model on embed will be deprecated in the future, please specify a model in the request.\n"
          ]
        },
        {
          "output_type": "stream",
          "name": "stdout",
          "text": [
            "The ENFJ personality type, known as Protagonists, are intense and passionate about matters of the heart. They believe their soulmate exists and won't give up until they find them. This personality type doesn't settle and therefore, is suitable for a romantic relationship with a like-minded, passionate and optimistic person, who also refuses to settle for less\n"
          ]
        }
      ]
    },
    {
      "cell_type": "code",
      "source": [
        "question = \"what friendships are suitable for the personality type ENFJ?\"\n",
        "\n",
        "results = ask_llm(question,)\n",
        "\n",
        "print(results[0])\n",
        "\n"
      ],
      "metadata": {
        "colab": {
          "base_uri": "https://localhost:8080/"
        },
        "id": "JLfZqAZZBQLJ",
        "outputId": "0215406d-0776-42fb-edf1-8f17e4ebfc91"
      },
      "execution_count": 12,
      "outputs": [
        {
          "output_type": "stream",
          "name": "stderr",
          "text": [
            "default model on embed will be deprecated in the future, please specify a model in the request.\n"
          ]
        },
        {
          "output_type": "stream",
          "name": "stdout",
          "text": [
            "The ENFJ personality type has a unique ability to have multiple friend groups for different aspects of their lives. They enjoy relaxing and unwinding by spending time with a diverse group of friends.  It suits them to have friends with whom they can have good conversations and explore what makes each person tick. \n"
          ]
        }
      ]
    },
    {
      "cell_type": "code",
      "source": [
        "question = \"what are weaknesses of the personality type ENFJ?\"\n",
        "\n",
        "results = ask_llm(question,)\n",
        "\n",
        "print(results[0])\n",
        "\n"
      ],
      "metadata": {
        "colab": {
          "base_uri": "https://localhost:8080/"
        },
        "id": "nmO-Cfz3BsmT",
        "outputId": "f3405ebd-f659-44e1-8e9d-db60cb684b12"
      },
      "execution_count": 13,
      "outputs": [
        {
          "output_type": "stream",
          "name": "stderr",
          "text": [
            "default model on embed will be deprecated in the future, please specify a model in the request.\n"
          ]
        },
        {
          "output_type": "stream",
          "name": "stdout",
          "text": [
            "The weaknesses of the ENFJ personality type are as follows:\n",
            "\n",
            "- Unrealistic - ENFJs put immense pressure on themselves to fix every issue they encounter, which can lead to spreading themselves too thin and being unable to offer any substantial help.\n",
            "- Overly Idealistic - ENFJs hold clear ideas about right and wrong and assume others\n"
          ]
        }
      ]
    }
  ]
}